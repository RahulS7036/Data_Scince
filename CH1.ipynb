import numpy as np
import pandas as pd
from pandas import Series, DataFrame

sr_obj = Series(np.arange(8),index = ['row1','row2','row3','row4','row5','row6','row7','row8'])
sr_obj

sr_obj[[0,7]]

sr_obj['row7']

np.random.seed(25)
DF_obj = DataFrame(np.random.rand(36).reshape((6,6)), 
                                              index = ['row1','row2','row3','row4','row5','row6'],
                                              columns = ['column1','column2','column3','column4','column5','column6'])
DF_obj

DF_obj.loc[['row1','row4'], ['column1','column4']]

sr_obj ['row2' : 'row5']

sr_obj [sr_obj > 6] 

sr_obj['row1','row2','row5'] = 8
sr_obj

DF_obj > 6
